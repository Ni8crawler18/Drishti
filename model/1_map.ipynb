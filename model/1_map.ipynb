{
 "cells": [
  {
   "cell_type": "code",
   "execution_count": 1,
   "id": "143267ac-08e9-4ed9-91c6-42fc9e0b6327",
   "metadata": {},
   "outputs": [
    {
     "name": "stdout",
     "output_type": "stream",
     "text": [
      "Train Dataset Head:\n",
      "                                category                       sub_category  \\\n",
      "0  Online and Social Media Related Crime  Cyber Bullying  Stalking  Sexting   \n",
      "1                 Online Financial Fraud                  Fraud CallVishing   \n",
      "2               Online Gambling  Betting           Online Gambling  Betting   \n",
      "3  Online and Social Media Related Crime                   Online Job Fraud   \n",
      "4                 Online Financial Fraud                  Fraud CallVishing   \n",
      "\n",
      "                                  crimeaditionalinfo  \n",
      "0  I had continue received random calls and abusi...  \n",
      "1  The above fraudster is continuously messaging ...  \n",
      "2  He is acting like a police and demanding for m...  \n",
      "3  In apna Job I have applied for job interview f...  \n",
      "4  I received a call from lady stating that she w...  \n",
      "\n",
      "Train Dataset Shape: (93686, 3)\n",
      "\n",
      "Test Dataset Head:\n",
      "                                    category  \\\n",
      "0  RapeGang Rape RGRSexually Abusive Content   \n",
      "1                     Online Financial Fraud   \n",
      "2             Cyber Attack/ Dependent Crimes   \n",
      "3                     Online Financial Fraud   \n",
      "4                      Any Other Cyber Crime   \n",
      "\n",
      "                           sub_category  \\\n",
      "0                                   NaN   \n",
      "1  DebitCredit Card FraudSim Swap Fraud   \n",
      "2                         SQL Injection   \n",
      "3                     Fraud CallVishing   \n",
      "4                                 Other   \n",
      "\n",
      "                                  crimeaditionalinfo  \n",
      "0  Sir namaskar  mein Ranjit Kumar PatraPaise neh...  \n",
      "1          KOTAK MAHINDRA BANK FRAUD\\r\\nFRAUD AMOUNT  \n",
      "2  The issue actually started when I got this ema...  \n",
      "3  I am amit kumar from karwi chitrakoot I am tot...  \n",
      "4  I have ordered  saree and  blouse from rinki s...  \n",
      "\n",
      "Test Dataset Shape: (31229, 3)\n"
     ]
    }
   ],
   "source": [
    "import pandas as pd\n",
    "\n",
    "# Load the train and test datasets\n",
    "train_path = \"datasets/train.csv\"  # Update with actual path to train.csv\n",
    "test_path = \"datasets/test.csv\"    # Update with actual path to test.csv\n",
    "\n",
    "train_df = pd.read_csv(train_path)\n",
    "test_df = pd.read_csv(test_path)\n",
    "\n",
    "# Display the first few rows and shape of the datasets\n",
    "print(\"Train Dataset Head:\")\n",
    "print(train_df.head())\n",
    "print(\"\\nTrain Dataset Shape:\", train_df.shape)\n",
    "\n",
    "print(\"\\nTest Dataset Head:\")\n",
    "print(test_df.head())\n",
    "print(\"\\nTest Dataset Shape:\", test_df.shape)"
   ]
  },
  {
   "cell_type": "code",
   "execution_count": 2,
   "id": "d1781ee2-e84d-499e-a913-3a3722ca0d61",
   "metadata": {},
   "outputs": [
    {
     "name": "stdout",
     "output_type": "stream",
     "text": [
      "\n",
      "Train Dataset with New Categories:\n",
      "                                category               new_category\n",
      "0  Online and Social Media Related Crime  Women/Child Related Crime\n",
      "1                 Online Financial Fraud     Financial Fraud Crimes\n",
      "2               Online Gambling  Betting          Other Cyber Crime\n",
      "3  Online and Social Media Related Crime  Women/Child Related Crime\n",
      "4                 Online Financial Fraud     Financial Fraud Crimes\n",
      "\n",
      "Test Dataset with New Categories:\n",
      "                                    category               new_category\n",
      "0  RapeGang Rape RGRSexually Abusive Content  Women/Child Related Crime\n",
      "1                     Online Financial Fraud     Financial Fraud Crimes\n",
      "2             Cyber Attack/ Dependent Crimes          Other Cyber Crime\n",
      "3                     Online Financial Fraud     Financial Fraud Crimes\n",
      "4                      Any Other Cyber Crime          Other Cyber Crime\n"
     ]
    }
   ],
   "source": [
    "# Manual mapping of existing categories to new categories\n",
    "category_mapping = {\n",
    "    'Online and Social Media Related Crime': 'Women/Child Related Crime',\n",
    "    'Online Financial Fraud': 'Financial Fraud Crimes',\n",
    "    'Online Gambling  Betting': 'Other Cyber Crime',\n",
    "    'RapeGang Rape RGRSexually Abusive Content': 'Women/Child Related Crime',\n",
    "    'Any Other Cyber Crime': 'Other Cyber Crime',\n",
    "    'Cyber Attack/ Dependent Crimes': 'Other Cyber Crime',\n",
    "    'Cryptocurrency Crime': 'Other Cyber Crime',\n",
    "    'Sexually Explicit Act': 'Women/Child Related Crime',\n",
    "    'Sexually Obscene material': 'Women/Child Related Crime',\n",
    "    'Hacking  Damage to computercomputer system etc': 'Other Cyber Crime',\n",
    "    'Cyber Terrorism': 'Other Cyber Crime',\n",
    "    'Child Pornography CPChild Sexual Abuse Material CSAM': 'Women/Child Related Crime',\n",
    "    'Online Cyber Trafficking': 'Women/Child Related Crime',\n",
    "    'Ransomware': 'Other Cyber Crime',\n",
    "    'Report Unlawful Content': 'Other Cyber Crime'\n",
    "}\n",
    "\n",
    "# Apply the category mapping to the 'category' column in both train and test datasets\n",
    "for df in [train_df, test_df]:\n",
    "    if 'category' in df.columns:\n",
    "        df['new_category'] = df['category'].apply(lambda x: category_mapping.get(x, 'Other Cyber Crime'))\n",
    "\n",
    "# Verify the results of the category mapping\n",
    "print(\"\\nTrain Dataset with New Categories:\")\n",
    "print(train_df[['category', 'new_category']].head())\n",
    "\n",
    "print(\"\\nTest Dataset with New Categories:\")\n",
    "print(test_df[['category', 'new_category']].head())"
   ]
  },
  {
   "cell_type": "code",
   "execution_count": 3,
   "id": "d57e6c0f-d9c8-4951-aee9-ed176ae6dffe",
   "metadata": {},
   "outputs": [
    {
     "name": "stdout",
     "output_type": "stream",
     "text": [
      "\n",
      "Train Dataset with New Subcategories:\n",
      "                        sub_category                        new_sub_category\n",
      "0  Cyber Bullying  Stalking  Sexting       [Cyber Bullying/Stalking/Sexting]\n",
      "1                  Fraud CallVishing    [Fraud Call/Vishing, Email Phishing]\n",
      "2           Online Gambling  Betting         [Online Gambling/Betting Fraud]\n",
      "3                   Online Job Fraud  [Online Job Fraud, Fraud Call/Vishing]\n",
      "4                  Fraud CallVishing    [Fraud Call/Vishing, Email Phishing]\n",
      "\n",
      "Test Dataset with New Subcategories:\n",
      "                           sub_category  \\\n",
      "0                                   NaN   \n",
      "1  DebitCredit Card FraudSim Swap Fraud   \n",
      "2                         SQL Injection   \n",
      "3                     Fraud CallVishing   \n",
      "4                                 Other   \n",
      "\n",
      "                            new_sub_category  \n",
      "0                [Women/Child Related Crime]  \n",
      "1  [Debit/Credit Card Fraud, SIM Swap Fraud]  \n",
      "2          [Web application vulnerabilities]  \n",
      "3       [Fraud Call/Vishing, Email Phishing]  \n",
      "4                        [Other Cyber Crime]  \n"
     ]
    }
   ],
   "source": [
    "# Manual mapping of existing subcategories to new subcategories\n",
    "subcategory_mapping = {\n",
    "    'Cyber Bullying  Stalking  Sexting': ['Cyber Bullying/Stalking/Sexting'],\n",
    "    'Fraud CallVishing': ['Fraud Call/Vishing', 'Email Phishing'],\n",
    "    'Online Gambling  Betting': ['Online Gambling/Betting Fraud'],\n",
    "    'Online Job Fraud': ['Online Job Fraud', 'Fraud Call/Vishing'],\n",
    "    'UPI Related Frauds': ['UPI-Related Frauds', 'Financial Fraud Crimes'],\n",
    "    'Internet Banking Related Fraud': ['Internet Banking-Related Fraud', 'Financial Fraud Crimes'],\n",
    "    'Profile Hacking Identity Theft': ['Profile Hacking/Identity Theft', 'Cyber Bullying/Stalking/Sexting'],\n",
    "    'DebitCredit Card FraudSim Swap Fraud': ['Debit/Credit Card Fraud', 'SIM Swap Fraud'],\n",
    "    'EWallet Related Fraud': ['E-Wallet Related Frauds', 'Financial Fraud Crimes'],\n",
    "    'Data Breach/Theft': ['Unauthorized Access/Data Breach', 'Data Breaches'],\n",
    "    'Cheating by Impersonation': ['Cheating by Impersonation', 'Impersonating Email'],\n",
    "    'Denial of Service (DoS)/Distributed Denial of Service (DDOS) attacks': ['Denial of Service (DoS) and Distributed Denial of Service (DDoS) attacks'],\n",
    "    'FakeImpersonating Profile': ['Fake/Impersonating Profile', 'Fraud Call/Vishing'],\n",
    "    'Cryptocurrency Fraud': ['Cryptocurrency Crime'],\n",
    "    'Malware Attack': ['Malware attacks', 'Hacking'],\n",
    "    'Business Email CompromiseEmail Takeover': ['Business Email Compromise/Email Takeover'],\n",
    "    'Email Hacking': ['Email Hacking', 'Profile Hacking/Identity Theft'],\n",
    "    'Hacking/Defacement': ['Defacement/Hacking', 'Hacking'],\n",
    "    'Unauthorized AccessData Breach': ['Unauthorized Access/Data Breach', 'Data Breaches'],\n",
    "    'SQL Injection': ['Web application vulnerabilities'],\n",
    "    'Provocative Speech for unlawful acts': ['Provocative Speech of Unlawful Acts'],\n",
    "    'Ransomware Attack': ['Ransomware'],\n",
    "    'Cyber Terrorism': ['Cyber Terrorism', 'Any Other Cyber Crime'],\n",
    "    'Tampering with computer source documents': ['Tampering with Computer Source Documents'],\n",
    "    'DematDepository Fraud': ['Demat/Depository Fraud'],\n",
    "    'Online Trafficking': ['Online Cyber Trafficking'],\n",
    "    'Online Matrimonial Fraud': ['Online Matrimonial Fraud'],\n",
    "    'Website DefacementHacking': ['Defacement/Hacking'],\n",
    "    'Damage to computer computer systems etc': ['Damage to Computer Systems'],\n",
    "    'Impersonating Email': ['Impersonating Email', 'Email Phishing'],\n",
    "    'EMail Phishing': ['Email Phishing'],\n",
    "    'Ransomware': ['Ransomware'],\n",
    "    'Intimidating Email': ['Intimidating Email'],\n",
    "    'Against Interest of sovereignty or integrity of India': ['Cyber Terrorism']\n",
    "}\n",
    "\n",
    "# Function to map subcategories based on both existing subcategory and category\n",
    "def map_to_subcategory(existing_subcategory, category=None):\n",
    "    # First try to map from subcategory mapping\n",
    "    subcategories = subcategory_mapping.get(existing_subcategory, [])\n",
    "    \n",
    "    # If no mapping found, try to map based on category as a fallback\n",
    "    if not subcategories and category:\n",
    "        if 'Financial' in category:\n",
    "            subcategories.append('Financial Fraud Crimes')\n",
    "        elif 'Women' in category or 'Child' in category:\n",
    "            subcategories.append('Women/Child Related Crime')\n",
    "        elif 'Cyber' in category:\n",
    "            subcategories.append('Other Cyber Crime')\n",
    "    \n",
    "    return subcategories\n",
    "\n",
    "# Apply the subcategory mapping based on both subcategory and category labels\n",
    "for df in [train_df, test_df]:\n",
    "    if 'sub_category' in df.columns and 'new_category' in df.columns:\n",
    "        df['new_sub_category'] = df.apply(lambda row: map_to_subcategory(row['sub_category'], row['new_category']), axis=1)\n",
    "\n",
    "# Verify the results of the subcategory mapping\n",
    "print(\"\\nTrain Dataset with New Subcategories:\")\n",
    "print(train_df[['sub_category', 'new_sub_category']].head())\n",
    "\n",
    "print(\"\\nTest Dataset with New Subcategories:\")\n",
    "print(test_df[['sub_category', 'new_sub_category']].head())"
   ]
  },
  {
   "cell_type": "code",
   "execution_count": 4,
   "id": "a6858bff-d3ef-4eb9-9be1-40265bd0c269",
   "metadata": {},
   "outputs": [
    {
     "name": "stdout",
     "output_type": "stream",
     "text": [
      "\n",
      "Train Dataset Shape after Cleaning: (93686, 5)\n",
      "\n",
      "Test Dataset Shape after Cleaning: (31229, 5)\n"
     ]
    }
   ],
   "source": [
    "# Clean the data by removing rows where 'new_sub_category' is an empty list\n",
    "train_df = train_df[train_df['new_sub_category'].apply(lambda x: len(x) > 0)]\n",
    "test_df = test_df[test_df['new_sub_category'].apply(lambda x: len(x) > 0)]\n",
    "\n",
    "# Verify the shape of the cleaned data\n",
    "print(\"\\nTrain Dataset Shape after Cleaning:\", train_df.shape)\n",
    "print(\"\\nTest Dataset Shape after Cleaning:\", test_df.shape)"
   ]
  },
  {
   "cell_type": "code",
   "execution_count": 5,
   "id": "b9722d90-8afe-4fa5-a8eb-cc98c2e158c4",
   "metadata": {},
   "outputs": [
    {
     "name": "stdout",
     "output_type": "stream",
     "text": [
      "Final datasets saved!\n"
     ]
    }
   ],
   "source": [
    "# Save the final mapped datasets to CSV\n",
    "train_df.to_csv(\"new_train.csv\", index=False)\n",
    "test_df.to_csv(\"new_test.csv\", index=False)\n",
    "\n",
    "print(\"Final datasets saved!\")"
   ]
  }
 ],
 "metadata": {
  "kernelspec": {
   "display_name": "Python 3 (ipykernel)",
   "language": "python",
   "name": "python3"
  },
  "language_info": {
   "codemirror_mode": {
    "name": "ipython",
    "version": 3
   },
   "file_extension": ".py",
   "mimetype": "text/x-python",
   "name": "python",
   "nbconvert_exporter": "python",
   "pygments_lexer": "ipython3",
   "version": "3.12.5"
  }
 },
 "nbformat": 4,
 "nbformat_minor": 5
}
